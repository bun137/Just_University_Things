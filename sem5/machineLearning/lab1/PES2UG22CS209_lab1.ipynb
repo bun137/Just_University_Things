{
 "cells": [
  {
   "cell_type": "markdown",
   "id": "dd66fff5",
   "metadata": {},
   "source": [
    "## Tasks\n",
    "1. Perform min-max scaling on a these set of values [171, 120, 86, 176, 77]. The input values range from 32 to 212 and the output should range from 0 to 100.\n",
    "2. Perform standardization (2-score normalization) on a dataset with the following values: [50, 60, 70, 89, 90]. Ensure the transformed values have a mean of 0 and a standard deviation of 1.\n",
    "3. Convert the categorical labels ['cat', 'dog', 'fish', 'cat', 'dog'] into numerical labels using label encoding.\n",
    "4. Apply one-hot encoding to the categorical variable ['apple', 'banana\", \"orange\", \"banana\", \"banana\", \"apple\", orange\", \"orange\"].\n",
    "5. Split the dataset X - [[1], [2], [3], [4], [5], [6], [7], [8]] and y - [10, 20, 30, 40, 50, 69, 70, 89] into training and testing sets with a test size of 25%.\n",
    "6. Generate a confusion matrix for the true labels [1, 0, 1, 1, 0] and the predicted labels [1, 0, 0, 1, 1]\n",
    "7. Train a random forest model on the breast-cancer dataset and output the importance of each feature.\n",
    "8. Train a support vector regression model on the house-pricing dataset and check if the model performs better than the linear regression model.\n"
   ]
  },
  {
   "cell_type": "code",
   "execution_count": 27,
   "id": "7c2f0b9a-ae56-457f-90d6-960ebea15bdd",
   "metadata": {},
   "outputs": [
    {
     "name": "stdout",
     "output_type": "stream",
     "text": [
      "   values  scaled_values\n",
      "0     171      77.222222\n",
      "1     120      48.888889\n",
      "2      86      30.000000\n",
      "3     176      80.000000\n",
      "4      77      25.000000\n"
     ]
    }
   ],
   "source": [
    "# 1. Perform min-max scaling on a these set of values [171, 120, 86, 176, 77]. The input values range from 32 to 212 and the output should range from 0 to 100. Use scikit learn\n",
    "\n",
    "import pandas as pd\n",
    "data = pd.DataFrame({'values': [171, 120, 86, 176, 77]})\n",
    "data['scaled_values'] = (data['values'] - 32) / (212 - 32) * (100 - 0) + 0\n",
    "print(data)\n"
   ]
  },
  {
   "cell_type": "code",
   "execution_count": 28,
   "id": "8c70bd49",
   "metadata": {},
   "outputs": [
    {
     "name": "stdout",
     "output_type": "stream",
     "text": [
      "   values  z_scores\n",
      "0      50 -1.264911\n",
      "1      60 -0.632456\n",
      "2      70  0.000000\n",
      "3      80  0.632456\n",
      "4      90  1.264911\n"
     ]
    }
   ],
   "source": [
    "#2. Perform standardization (2-score normalization) on a dataset with the following values: [50, 60, 70, 89, 90]. Ensure the transformed values have a mean of 0 and a standard deviation of 1.\n",
    "\n",
    "data = pd.DataFrame({'values': [50, 60, 70, 80, 90]})\n",
    "mean = data['values'].mean()\n",
    "std_dev = data['values'].std()\n",
    "data['z_scores'] = (data['values'] - mean) / std_dev\n",
    "print(data)"
   ]
  },
  {
   "cell_type": "code",
   "execution_count": 29,
   "id": "f78ee14f",
   "metadata": {},
   "outputs": [
    {
     "name": "stdout",
     "output_type": "stream",
     "text": [
      "[0 1 2 0 1]\n"
     ]
    }
   ],
   "source": [
    "#3. Convert the categorical labels ['cat', 'dog', 'fish', 'cat', 'dog'] into numerical labels using label encoding.\n",
    "\n",
    "from sklearn.preprocessing import LabelEncoder\n",
    "data = ['cat', 'dog', 'fish', 'cat', 'dog']\n",
    "encoder = LabelEncoder()\n",
    "encoded_data = encoder.fit_transform(data)\n",
    "print(encoded_data)\n"
   ]
  },
  {
   "cell_type": "code",
   "execution_count": 30,
   "id": "44c6395d",
   "metadata": {},
   "outputs": [
    {
     "name": "stdout",
     "output_type": "stream",
     "text": [
      "[[1. 0. 0.]\n",
      " [0. 1. 0.]\n",
      " [0. 0. 1.]\n",
      " [0. 1. 0.]\n",
      " [0. 1. 0.]\n",
      " [1. 0. 0.]\n",
      " [0. 0. 1.]\n",
      " [0. 0. 1.]]\n"
     ]
    }
   ],
   "source": [
    "#4. Apply one-hot encoding to the categorical variable ['apple', 'banana\", \"orange\", \"banana\", \"banana\", \"apple\", orange\", \"orange\"].\n",
    "\n",
    "from sklearn.preprocessing import OneHotEncoder\n",
    "data = ['apple', 'banana', 'orange', 'banana', 'banana', 'apple', 'orange', 'orange']\n",
    "encoder = OneHotEncoder()\n",
    "encoded_data = encoder.fit_transform(np.array(data).reshape(-1, 1))\n",
    "print(encoded_data.toarray())\n"
   ]
  },
  {
   "cell_type": "code",
   "execution_count": 31,
   "id": "1cbb37b1",
   "metadata": {},
   "outputs": [
    {
     "name": "stdout",
     "output_type": "stream",
     "text": [
      "X_train :  [[3]\n",
      " [7]\n",
      " [6]\n",
      " [2]\n",
      " [5]\n",
      " [8]]\n",
      "X_test :  [[1]\n",
      " [4]]\n",
      "y_train :  [30 70 69 20 50 89]\n",
      "y_test :  [10 40]\n"
     ]
    }
   ],
   "source": [
    "#5. Split the dataset X - [[1], [2], [3], [4], [5], [6], [7], [8]] and y - [10, 20, 30, 40, 50, 69, 70, 89] into training and testing sets with a test size of 25%.\n",
    "\n",
    "from sklearn.model_selection import train_test_split\n",
    "X = np.array([[1], [2], [3], [4], [5], [6], [7], [8]])\n",
    "y = np.array([10, 20, 30, 40, 50, 69, 70, 89])\n",
    "X_train, X_test, y_train, y_test = train_test_split(X, y, test_size=0.25)\n",
    "print(\"X_train : \",X_train)\n",
    "print(\"X_test : \",X_test)\n",
    "print(\"y_train : \",y_train)\n",
    "print(\"y_test : \",y_test)\n",
    "\n"
   ]
  },
  {
   "cell_type": "code",
   "execution_count": 32,
   "id": "fdda1afa",
   "metadata": {},
   "outputs": [
    {
     "name": "stdout",
     "output_type": "stream",
     "text": [
      "[[1 1]\n",
      " [1 2]]\n"
     ]
    }
   ],
   "source": [
    "#6. Generate a confusion matrix for the true labels [1, 0, 1, 1, 0] and the predicted labels [1, 0, 0, 1, 1]\n",
    "\n",
    "from sklearn.metrics import confusion_matrix\n",
    "true_labels = [1, 0, 1, 1, 0]\n",
    "predicted_labels = [1, 0, 0, 1, 1]\n",
    "confusion_mat = confusion_matrix(true_labels, predicted_labels)\n",
    "print(confusion_mat)\n"
   ]
  },
  {
   "cell_type": "code",
   "execution_count": 33,
   "id": "4ce91b17",
   "metadata": {},
   "outputs": [
    {
     "name": "stdout",
     "output_type": "stream",
     "text": [
      "[0.0049816  0.04984449 0.0121135  0.02985625 0.06148343 0.00686525\n",
      " 0.01443843 0.0550635  0.07907604 0.00306517 0.00321906 0.01470763\n",
      " 0.0050357  0.01088446 0.03188131 0.00394623 0.00458477 0.00472829\n",
      " 0.00268088 0.00367832 0.00520972 0.08673133 0.01721012 0.12495754\n",
      " 0.1406343  0.00906086 0.01824997 0.04119069 0.13724838 0.01144061\n",
      " 0.00593217 0.        ]\n"
     ]
    }
   ],
   "source": [
    "#7. Train a random forest model on the breast-cancer dataset and output the importance of each feature.\n",
    "\n",
    "import pandas as pd\n",
    "from sklearn.datasets import load_breast_cancer\n",
    "from sklearn.ensemble import RandomForestClassifier\n",
    "data = pd.read_csv(\"/home/shreya/Documents/Stuff/PES/sem5/machineLearning/lab1/classification/data.csv\")\n",
    "X = data.drop(columns=['diagnosis'])\n",
    "y = data['diagnosis']\n",
    "model = RandomForestClassifier()\n",
    "model.fit(X, y)\n",
    "importances = model.feature_importances_\n",
    "print(importances)"
   ]
  },
  {
   "cell_type": "code",
   "execution_count": 34,
   "id": "a91f5fcc",
   "metadata": {},
   "outputs": [
    {
     "name": "stdout",
     "output_type": "stream",
     "text": [
      "SVR Score :  0.0005705290552791009\n",
      "Linear Score :  0.015917529104617967\n"
     ]
    }
   ],
   "source": [
    "#8. Train a support vector regression model on the house-pricing dataset and check if the model performs better than the linear regression model.\n",
    "\n",
    "from sklearn.svm import SVR\n",
    "from sklearn.linear_model import LinearRegression\n",
    "\n",
    "data = pd.read_csv(\"/home/shreya/Documents/Stuff/PES/sem5/machineLearning/lab1/regression/sample_submission.csv\")\n",
    "X = data.drop(columns=['SalePrice'])\n",
    "y = data['SalePrice']\n",
    "svr_model = SVR()\n",
    "linear_model = LinearRegression()\n",
    "svr_model.fit(X, y)\n",
    "linear_model.fit(X, y)\n",
    "svr_score = svr_model.score(X, y)\n",
    "linear_score = linear_model.score(X, y)\n",
    "print(\"SVR Score : \",svr_score)\n",
    "print(\"Linear Score : \",linear_score)"
   ]
  }
 ],
 "metadata": {
  "kernelspec": {
   "display_name": "Python 3 (ipykernel)",
   "language": "python",
   "name": "python3"
  },
  "language_info": {
   "codemirror_mode": {
    "name": "ipython",
    "version": 3
   },
   "file_extension": ".py",
   "mimetype": "text/x-python",
   "name": "python",
   "nbconvert_exporter": "python",
   "pygments_lexer": "ipython3",
   "version": "3.12.2"
  }
 },
 "nbformat": 4,
 "nbformat_minor": 5
}
