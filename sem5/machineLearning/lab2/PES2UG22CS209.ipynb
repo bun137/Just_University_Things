{
  "cells": [
    {
      "cell_type": "code",
      "execution_count": 1,
      "metadata": {
        "id": "erLG1rPDIbts"
      },
      "outputs": [],
      "source": [
        "import torch\n",
        "import numpy as np\n",
        "import math"
      ]
    },
    {
      "cell_type": "code",
      "execution_count": 2,
      "metadata": {
        "colab": {
          "base_uri": "https://localhost:8080/"
        },
        "id": "xdKxG1-uJXSG",
        "outputId": "7780975a-d0d5-4bf2-cf35-ab9537b42f95"
      },
      "outputs": [
        {
          "name": "stdout",
          "output_type": "stream",
          "text": [
            "tensor([[1, 2],\n",
            "        [3, 4]])\n"
          ]
        }
      ],
      "source": [
        "data = [[1,2],[3,4]]\n",
        "x_data = torch.tensor(data)\n",
        "print(x_data)"
      ]
    },
    {
      "cell_type": "code",
      "execution_count": 3,
      "metadata": {
        "colab": {
          "base_uri": "https://localhost:8080/"
        },
        "id": "gSew7cytImbB",
        "outputId": "10e67bf4-ee12-4b1f-a644-92cd0bd89a05"
      },
      "outputs": [
        {
          "name": "stdout",
          "output_type": "stream",
          "text": [
            "tensor([[1, 2],\n",
            "        [3, 4]])\n"
          ]
        }
      ],
      "source": [
        "data =[[1,2],[3,4]]\n",
        "np_array = np.array(data)\n",
        "x_np = torch.from_numpy(np_array)\n",
        "print(x_np)"
      ]
    },
    {
      "cell_type": "code",
      "execution_count": 4,
      "metadata": {
        "colab": {
          "base_uri": "https://localhost:8080/"
        },
        "id": "Ye7Ri_MmI4sa",
        "outputId": "ea0a3df2-e791-4299-8c57-79cb4f684c3b"
      },
      "outputs": [
        {
          "name": "stdout",
          "output_type": "stream",
          "text": [
            "Ones Tensor: \n",
            " tensor([[1, 1],\n",
            "        [1, 1]]) \n",
            "\n",
            "Random Tensor: \n",
            " tensor([[0.5748, 0.5315],\n",
            "        [0.9855, 0.5774]])\n",
            "\n"
          ]
        }
      ],
      "source": [
        "x_ones = torch.ones_like(x_data)\n",
        "print(f\"Ones Tensor: \\n {x_ones} \\n\")\n",
        "x_rand = torch.rand_like(x_data, dtype=torch.float)\n",
        "print(f\"Random Tensor: \\n {x_rand}\\n\")"
      ]
    },
    {
      "cell_type": "code",
      "execution_count": 5,
      "metadata": {
        "colab": {
          "base_uri": "https://localhost:8080/"
        },
        "id": "ycpE1uW8Jk0q",
        "outputId": "284043a7-0f26-4aec-832b-3a90bf5e4d0b"
      },
      "outputs": [
        {
          "name": "stdout",
          "output_type": "stream",
          "text": [
            "Ones Tensor: \n",
            " tensor([[1., 1., 1.],\n",
            "        [1., 1., 1.]])\n",
            "\n",
            "zeros Tensor: \n",
            " tensor([[0., 0., 0.],\n",
            "        [0., 0., 0.]])\n",
            "\n",
            "Random Tensor: \n",
            " tensor([[0.9631, 0.4014, 0.7564],\n",
            "        [0.5782, 0.5438, 0.1929]])\n",
            "\n",
            "Empty Tensor: \n",
            " tensor([[0., 0., 0.],\n",
            "        [0., 0., 0.]])\n",
            "\n"
          ]
        }
      ],
      "source": [
        "shape = (2,3)\n",
        "ones_tensor = torch.ones(shape)\n",
        "zeros_tensor = torch.zeros(shape)\n",
        "torch.manual_seed(1789)\n",
        "rand_tensor = torch.rand(shape)\n",
        "empty_tensor = torch.empty(shape)\n",
        "print(f\"Ones Tensor: \\n {ones_tensor}\\n\")\n",
        "print(f\"zeros Tensor: \\n {zeros_tensor}\\n\")\n",
        "print(f\"Random Tensor: \\n {rand_tensor}\\n\")\n",
        "print(f\"Empty Tensor: \\n {empty_tensor}\\n\")"
      ]
    },
    {
      "cell_type": "code",
      "execution_count": 6,
      "metadata": {
        "colab": {
          "base_uri": "https://localhost:8080/"
        },
        "id": "PbhfiTCYKWzp",
        "outputId": "7c58fafd-c703-48d9-c2e2-0395654adb20"
      },
      "outputs": [
        {
          "name": "stdout",
          "output_type": "stream",
          "text": [
            "torch.Size([2, 2, 3]) \n",
            "\n",
            "tensor([[[7.9467e+11, 3.1473e-41, 0.0000e+00],\n",
            "         [0.0000e+00, 1.8727e-14, 3.1469e-41]],\n",
            "\n",
            "        [[1.0842e-19, 0.0000e+00, 4.6241e+30],\n",
            "         [1.0552e+24, 5.5757e-02, 1.8728e+31]]])\n"
          ]
        }
      ],
      "source": [
        "x = torch.empty(2,2,3)\n",
        "print(x.shape, \"\\n\")\n",
        "print(x)"
      ]
    },
    {
      "cell_type": "code",
      "execution_count": 7,
      "metadata": {
        "colab": {
          "base_uri": "https://localhost:8080/"
        },
        "id": "R8UTVgyMLnAg",
        "outputId": "d7339903-a0cf-45cf-ec58-c95a79a6aa99"
      },
      "outputs": [
        {
          "name": "stdout",
          "output_type": "stream",
          "text": [
            "tensor([[1, 1, 1],\n",
            "        [1, 1, 1]], dtype=torch.int8)\n",
            "torch.int8\n",
            "\n",
            "\n",
            "tensor([[1, 1, 1],\n",
            "        [1, 1, 1]])\n",
            "torch.int64\n",
            "\n",
            "\n",
            "tensor([[True, True, True],\n",
            "        [True, True, True]])\n",
            "torch.bool\n"
          ]
        }
      ],
      "source": [
        "a = torch.ones((2,3), dtype=torch.int8)\n",
        "print(a)\n",
        "print(a.dtype)\n",
        "print(\"\\n\")\n",
        "a = torch.ones((2,3), dtype=torch.int64)\n",
        "print(a)\n",
        "print(a.dtype)\n",
        "print(\"\\n\")\n",
        "a = torch.ones((2,3), dtype=torch.bool)\n",
        "print(a)\n",
        "print(a.dtype)"
      ]
    },
    {
      "cell_type": "code",
      "execution_count": 8,
      "metadata": {
        "colab": {
          "base_uri": "https://localhost:8080/"
        },
        "id": "RYRK0JitMiS2",
        "outputId": "9d8021e2-b345-4751-fd63-a979aca278de"
      },
      "outputs": [
        {
          "name": "stdout",
          "output_type": "stream",
          "text": [
            "device tensor is initially stored on: cpu\n"
          ]
        }
      ],
      "source": [
        "tensor = torch.rand(3,2)\n",
        "print(f\"device tensor is initially stored on: {tensor.device}\")"
      ]
    },
    {
      "cell_type": "code",
      "execution_count": 10,
      "metadata": {
        "id": "BBchL4qiM2EX"
      },
      "outputs": [
        {
          "name": "stdout",
          "output_type": "stream",
          "text": [
            "device tensor is now stored on: cuda:0\n"
          ]
        }
      ],
      "source": [
        "if torch.cuda.is_available():\n",
        "    tensor = tensor.to('cuda')\n",
        "    print(f\"device tensor is now stored on: {tensor.device}\")\n",
        "else:\n",
        "    print(\"cuda is not available\")\n"
      ]
    },
    {
      "cell_type": "code",
      "execution_count": 11,
      "metadata": {},
      "outputs": [
        {
          "name": "stdout",
          "output_type": "stream",
          "text": [
            "First row: tensor([1., 1., 1., 1.]) \n",
            "\n",
            "First column: tensor([1., 1., 1., 1.]) \n",
            "\n",
            "Last column: tensor([1., 1., 1., 1.]) \n",
            "\n",
            "tensor([[1., 0., 1., 1.],\n",
            "        [1., 0., 1., 1.],\n",
            "        [1., 0., 1., 1.],\n",
            "        [1., 0., 1., 1.]])\n"
          ]
        }
      ],
      "source": [
        "tensor = torch.ones(4,4)\n",
        "print(f\"First row: {tensor[0]} \\n\")\n",
        "print(f\"First column: {tensor[:,0]} \\n\")\n",
        "print(f\"Last column: {tensor[:,-1]} \\n\")\n",
        "tensor[:,1] = 0\n",
        "print(tensor)"
      ]
    },
    {
      "cell_type": "code",
      "execution_count": 15,
      "metadata": {},
      "outputs": [
        {
          "name": "stdout",
          "output_type": "stream",
          "text": [
            "tensor([[1., 1.],\n",
            "        [1., 1.]])\n",
            "tensor([[2., 2.],\n",
            "        [2., 2.]])\n",
            "tensor([[3., 3.],\n",
            "        [3., 3.]])\n",
            "tensor([[4., 4.],\n",
            "        [4., 4.]])\n",
            "tensor([[1.4142, 1.4142],\n",
            "        [1.4142, 1.4142]])\n"
          ]
        }
      ],
      "source": [
        "ones = torch.zeros(2, 2) + 1\n",
        "twos = (torch.ones(2, 2) * 2)\n",
        "threes = (torch.ones(2,2) * 7 - 1) / 2\n",
        "fours = twos ** 2\n",
        "sqrt2s = twos ** 0.5\n",
        "\n",
        "print(ones)\n",
        "print(twos)\n",
        "print(threes)\n",
        "print(fours)\n",
        "print(sqrt2s)"
      ]
    },
    {
      "cell_type": "code",
      "execution_count": 22,
      "metadata": {},
      "outputs": [
        {
          "name": "stdout",
          "output_type": "stream",
          "text": [
            "tensor([[ 2.,  4.],\n",
            "        [ 8., 16.]]) \n",
            "\n",
            "tensor([[5., 5.],\n",
            "        [5., 5.]]) \n",
            "\n",
            "tensor([[12., 12.],\n",
            "        [12., 12.]]) \n",
            "\n"
          ]
        }
      ],
      "source": [
        "powers2 = twos ** torch.tensor([[1,2], [3,4]])\n",
        "print(powers2, \"\\n\")\n",
        "\n",
        "fives = ones + fours\n",
        "print(fives, \"\\n\")\n",
        "\n",
        "dozens = threes * fours\n",
        "print(dozens, \"\\n\")"
      ]
    },
    {
      "cell_type": "code",
      "execution_count": 28,
      "metadata": {},
      "outputs": [
        {
          "name": "stdout",
          "output_type": "stream",
          "text": [
            "tensor([[0.6428, 0.3502, 0.8198, 0.1592],\n",
            "        [0.0902, 0.7986, 0.4120, 0.8499]])\n",
            "tensor([[1.2857, 0.7005, 1.6397, 0.3183],\n",
            "        [0.1804, 1.5973, 0.8240, 1.6998]])\n"
          ]
        }
      ],
      "source": [
        "rand = torch.rand(2, 4)\n",
        "doubled = rand * (torch.ones(1,4) * 2)\n",
        "print(rand)\n",
        "print(doubled)"
      ]
    },
    {
      "cell_type": "code",
      "execution_count": 34,
      "metadata": {},
      "outputs": [
        {
          "name": "stdout",
          "output_type": "stream",
          "text": [
            "tensor([[[0.5300, 0.3159],\n",
            "         [0.7081, 0.1727],\n",
            "         [0.9051, 0.5988]],\n",
            "\n",
            "        [[0.5300, 0.3159],\n",
            "         [0.7081, 0.1727],\n",
            "         [0.9051, 0.5988]],\n",
            "\n",
            "        [[0.5300, 0.3159],\n",
            "         [0.7081, 0.1727],\n",
            "         [0.9051, 0.5988]],\n",
            "\n",
            "        [[0.5300, 0.3159],\n",
            "         [0.7081, 0.1727],\n",
            "         [0.9051, 0.5988]]]) \n",
            "\n",
            "tensor([[[0.2455, 0.1117],\n",
            "         [0.2455, 0.1117],\n",
            "         [0.2455, 0.1117]],\n",
            "\n",
            "        [[0.2259, 0.1532],\n",
            "         [0.2259, 0.1532],\n",
            "         [0.2259, 0.1532]],\n",
            "\n",
            "        [[0.4302, 0.6361],\n",
            "         [0.4302, 0.6361],\n",
            "         [0.4302, 0.6361]],\n",
            "\n",
            "        [[0.7443, 0.7234],\n",
            "         [0.7443, 0.7234],\n",
            "         [0.7443, 0.7234]]]) \n",
            "\n",
            "tensor([[[0.7417, 0.6321],\n",
            "         [0.2893, 0.1629],\n",
            "         [0.1285, 0.9058]],\n",
            "\n",
            "        [[0.7417, 0.6321],\n",
            "         [0.2893, 0.1629],\n",
            "         [0.1285, 0.9058]],\n",
            "\n",
            "        [[0.7417, 0.6321],\n",
            "         [0.2893, 0.1629],\n",
            "         [0.1285, 0.9058]],\n",
            "\n",
            "        [[0.7417, 0.6321],\n",
            "         [0.2893, 0.1629],\n",
            "         [0.1285, 0.9058]]]) \n",
            "\n"
          ]
        }
      ],
      "source": [
        "a = torch.ones(4, 3, 2)\n",
        "b = a * torch.rand(3, 2)\n",
        "print(b, \"\\n\")\n",
        "\n",
        "c = a * torch.rand(4, 1, 2)\n",
        "print(c, \"\\n\")\n",
        "\n",
        "d = a * torch.rand(1, 3, 2)\n",
        "print(d, \"\\n\")"
      ]
    },
    {
      "cell_type": "code",
      "execution_count": 38,
      "metadata": {},
      "outputs": [
        {
          "name": "stdout",
          "output_type": "stream",
          "text": [
            "tensor([[0.8680, 0.0246, 0.3889, 0.4033],\n",
            "        [0.4086, 0.0129, 0.4722, 0.5735]]) \n",
            "\n",
            "tensor([[1., 1., 1., 1.],\n",
            "        [1., 1., 1., 1.]]) \n",
            "\n",
            "tensor([[0., 0., 0., 0.],\n",
            "        [0., 0., 0., 0.]]) \n",
            "\n",
            "tensor([[0.5000, 0.0246, 0.3889, 0.4033],\n",
            "        [0.4086, 0.0129, 0.4722, 0.5000]]) \n",
            "\n"
          ]
        }
      ],
      "source": [
        "# Mathematical Functions\n",
        "\n",
        "a = torch.rand(2,4)\n",
        "print(torch.abs(a), \"\\n\")\n",
        "print(torch.ceil(a), \"\\n\")\n",
        "print(torch.floor(a), \"\\n\") \n",
        "print(torch.clamp(a, -0.5, 0.5), \"\\n\")"
      ]
    },
    {
      "cell_type": "code",
      "execution_count": 41,
      "metadata": {},
      "outputs": [
        {
          "name": "stdout",
          "output_type": "stream",
          "text": [
            "Angles, Sines and Arc Sines:\n",
            "tensor([0.0000, 0.7854, 1.5708, 2.3562, 3.1416]) \n",
            "\n",
            "tensor([ 0.0000e+00,  7.0711e-01,  1.0000e+00,  7.0711e-01, -8.7423e-08]) \n",
            "\n",
            "tensor([ 0.0000e+00,  7.8540e-01,  1.5708e+00,  7.8540e-01, -8.7423e-08]) \n",
            "\n"
          ]
        }
      ],
      "source": [
        "#Trigonometric Functions -> not in degree but in radians\n",
        "angles = torch.tensor([0, math.pi/4, math.pi/2, 3 * math.pi/4, math.pi])\n",
        "sines = torch.sin(angles)\n",
        "arcsines = torch.asin(sines)\n",
        "print(\"Angles, Sines and Arc Sines:\")\n",
        "print(angles, \"\\n\")\n",
        "print(sines, \"\\n\")\n",
        "print(arcsines, \"\\n\")\n"
      ]
    },
    {
      "cell_type": "code",
      "execution_count": 42,
      "metadata": {},
      "outputs": [
        {
          "name": "stdout",
          "output_type": "stream",
          "text": [
            "tensor([3, 2, 1]) \n",
            "\n"
          ]
        }
      ],
      "source": [
        "#Bitwise Operations\n",
        "b = torch.tensor([1, 5, 11])\n",
        "c = torch.tensor([2, 7, 10])\n",
        "\n",
        "print(torch.bitwise_xor(b, c), \"\\n\")"
      ]
    },
    {
      "cell_type": "code",
      "execution_count": 43,
      "metadata": {},
      "outputs": [
        {
          "name": "stdout",
          "output_type": "stream",
          "text": [
            "Broadcasted, element-wise comparison operations:\n",
            "tensor([[1., 2.],\n",
            "        [3., 4.]]) \n",
            "\n",
            "tensor([[1., 1.]]) \n",
            "\n",
            "tensor([[ True, False],\n",
            "        [False, False]]) \n",
            "\n"
          ]
        }
      ],
      "source": [
        "# Comparison Operations\n",
        "print(\"Broadcasted, element-wise comparison operations:\")\n",
        "d = torch.tensor([[1., 2.], [3., 4.]])\n",
        "print(d, \"\\n\")\n",
        "e = torch.ones(1,2)\n",
        "print(e, \"\\n\")\n",
        "print(torch.eq(d, e), \"\\n\")"
      ]
    },
    {
      "cell_type": "code",
      "execution_count": 45,
      "metadata": {},
      "outputs": [
        {
          "name": "stdout",
          "output_type": "stream",
          "text": [
            "tensor(4.) \n",
            "\n",
            "4.0 \n",
            "\n",
            "tensor(2.5000) \n",
            "\n",
            "tensor(1.2910) \n",
            "\n",
            "tensor(24.) \n",
            "\n",
            "tensor([1, 2]) \n",
            "\n"
          ]
        }
      ],
      "source": [
        "# Reductions\n",
        "\n",
        "d = torch.tensor([[1., 2.], [3., 4.]])\n",
        "print(torch.max(d), \"\\n\")\n",
        "print(torch.max(d).item(), \"\\n\")\n",
        "print(torch.mean(d), \"\\n\")\n",
        "print(torch.std(d), \"\\n\")\n",
        "print(torch.prod(d), \"\\n\")\n",
        "print(torch.unique(torch.tensor([1, 2, 1, 2, 1, 2])), \"\\n\")\n"
      ]
    },
    {
      "cell_type": "code",
      "execution_count": 47,
      "metadata": {},
      "outputs": [
        {
          "name": "stdout",
          "output_type": "stream",
          "text": [
            "tensor([0., 0., 0.]) \n",
            "\n",
            "tensor([[0.6007, 0.5485],\n",
            "        [0.5868, 0.3942]]) \n",
            "\n",
            "tensor([[1.8022, 1.6454],\n",
            "        [1.7603, 1.1827]]) \n",
            "\n",
            "torch.return_types.svd(\n",
            "U=tensor([[-0.7553, -0.6554],\n",
            "        [-0.6554,  0.7553]]),\n",
            "S=tensor([3.2244, 0.2373]),\n",
            "V=tensor([[-0.7800,  0.6258],\n",
            "        [-0.6258, -0.7800]])) \n",
            "\n"
          ]
        }
      ],
      "source": [
        "# Vector Operations and Linear Algebra Operations\n",
        "v1 = torch.tensor([1.,0.,0.]) #x unit vector\n",
        "v2 = torch.tensor([1.,0.,0.]) #y unit vector\n",
        "\n",
        "print(torch.linalg.cross(v1,v2), \"\\n\") #returns cross products\n",
        "\n",
        "m1 = torch.rand(2,2)\n",
        "m2 = torch.tensor([[3.,0.],[0.,3.]])\n",
        "print(m1, \"\\n\")\n",
        "m3 = torch.matmul(m1,m2)\n",
        "print(m3, \"\\n\")\n",
        "print(torch.svd(m3), \"\\n\")"
      ]
    },
    {
      "cell_type": "code",
      "execution_count": 48,
      "metadata": {},
      "outputs": [
        {
          "name": "stdout",
          "output_type": "stream",
          "text": [
            "a:\n",
            "tensor([0.0000, 0.7854, 1.5708, 2.3562, 3.1416])\n",
            "tensor([ 0.0000e+00,  7.0711e-01,  1.0000e+00,  7.0711e-01, -8.7423e-08])\n",
            "tensor([0.0000, 0.7854, 1.5708, 2.3562, 3.1416])\n"
          ]
        }
      ],
      "source": [
        "a = torch.tensor([0, math.pi/4, math.pi/2, 3 * math.pi/4, math.pi])\n",
        "print('a:')\n",
        "print(a)\n",
        "print(torch.sin(a))\n",
        "print(a)\n"
      ]
    },
    {
      "cell_type": "code",
      "execution_count": 50,
      "metadata": {},
      "outputs": [
        {
          "name": "stdout",
          "output_type": "stream",
          "text": [
            "Before: \n",
            "tensor([[1., 1.],\n",
            "        [1., 1.]])\n",
            "tensor([[1., 1.],\n",
            "        [1., 1.]])\n",
            "\n",
            "After adding: \n",
            "tensor([[2., 2.],\n",
            "        [2., 2.]])\n",
            "\n",
            "After multiplying: \n",
            "tensor([[2., 2.],\n",
            "        [2., 2.]])\n"
          ]
        }
      ],
      "source": [
        "a = torch.ones(2, 2)\n",
        "b = torch.ones(2, 2)\n",
        "print(\"Before: \")\n",
        "print(a)\n",
        "print(b)\n",
        "print(\"\\nAfter adding: \")\n",
        "print(a.add_(b))\n",
        "print(\"\\nAfter multiplying: \")  \n",
        "print(a.mul_(b))"
      ]
    },
    {
      "cell_type": "code",
      "execution_count": 87,
      "metadata": {},
      "outputs": [
        {
          "name": "stdout",
          "output_type": "stream",
          "text": [
            "We have a GPU!\n"
          ]
        }
      ],
      "source": [
        "if torch.cuda.is_available():\n",
        "    print('We have a GPU!')\n",
        "else:\n",
        "    try:\n",
        "        device = torch.device(\"mps\")\n",
        "        print(\"MPS available!\")\n",
        "    except:\n",
        "        print('Sorry, CPU only.')\n"
      ]
    },
    {
      "cell_type": "code",
      "execution_count": 88,
      "metadata": {},
      "outputs": [
        {
          "name": "stdout",
          "output_type": "stream",
          "text": [
            "tensor([[0.6425, 0.8167],\n",
            "        [0.8363, 0.1061]], device='cuda:0')\n"
          ]
        }
      ],
      "source": [
        "if torch.cuda.is_available():\n",
        "    my_device = torch.device('cuda')\n",
        "else:\n",
        "    try:\n",
        "        my_device = torch.device(\"mps\")\n",
        "    except:\n",
        "        my_device = torch.device('cpu')\n",
        "\n",
        "x = torch.rand(2, 2, device=my_device)\n",
        "print(x)"
      ]
    },
    {
      "cell_type": "markdown",
      "metadata": {},
      "source": [
        "# Questions"
      ]
    },
    {
      "cell_type": "code",
      "execution_count": 46,
      "metadata": {},
      "outputs": [
        {
          "name": "stdout",
          "output_type": "stream",
          "text": [
            "tensor([[0, 0, 0, 0],\n",
            "        [0, 0, 0, 0],\n",
            "        [0, 0, 0, 0],\n",
            "        [0, 0, 0, 0]]) \n",
            "\n"
          ]
        }
      ],
      "source": [
        "# 1.Obtain a tensor containing only zeros from the given tensor\n",
        "pattern = torch.tensor([\n",
        "    [1,1,1,1],\n",
        "    [1,0,0,1],\n",
        "    [1,0,0,1],\n",
        "    [1,1,1,1]\n",
        "])\n",
        "\n",
        "zeros = torch.zeros_like(pattern)\n",
        "print(zeros, \"\\n\")\n"
      ]
    },
    {
      "cell_type": "code",
      "execution_count": 24,
      "metadata": {},
      "outputs": [
        {
          "name": "stdout",
          "output_type": "stream",
          "text": [
            "[[1. 1. 1.]\n",
            " [1. 1. 1.]\n",
            " [1. 1. 1.]]\n"
          ]
        }
      ],
      "source": [
        "# 2.Create NumPy array of shape (1, 3, 3) using PyTorch\n",
        "np_array = torch.ones(3,3).numpy()\n",
        "print(np_array)"
      ]
    },
    {
      "cell_type": "code",
      "execution_count": 26,
      "metadata": {},
      "outputs": [
        {
          "name": "stdout",
          "output_type": "stream",
          "text": [
            "tensor([[[0.4983, 0.1046],\n",
            "         [0.3991, 0.2752]],\n",
            "\n",
            "        [[0.0825, 0.4450],\n",
            "         [0.0422, 0.1573]]])\n",
            "\n",
            "Min: 0.042207006365060806\n",
            "Max: 0.49827149510383606\n",
            "Mean: 0.25052955746650696\n",
            "Standard Deviation: 0.17867928743362427\n",
            "\n",
            "\n"
          ]
        }
      ],
      "source": [
        "# 3.Create two random (2, 2, 2) tensors and find the min, max, mean, std of their product (matrix multiplication)\n",
        "\n",
        "a = torch.rand(2,2,2)\n",
        "b = torch.rand(2,2,2)\n",
        "product = torch.matmul(a,b)\n",
        "print(product)\n",
        "\n",
        "print(f\"\\nMin: {product.min()}\")\n",
        "print(f\"Max: {product.max()}\")\n",
        "print(f\"Mean: {product.mean()}\")\n",
        "print(f\"Standard Deviation: {product.std()}\")\n",
        "print(\"\\n\")\n",
        "\n"
      ]
    },
    {
      "cell_type": "code",
      "execution_count": 32,
      "metadata": {},
      "outputs": [
        {
          "name": "stdout",
          "output_type": "stream",
          "text": [
            "tensor([[1., 1., 1., 1., 1., 1., 1., 1., 1., 1., 1., 1., 1., 1., 1., 1.],\n",
            "        [1., 1., 1., 1., 1., 1., 1., 1., 1., 1., 1., 1., 1., 1., 1., 1.],\n",
            "        [1., 1., 1., 1., 1., 1., 1., 1., 1., 1., 1., 1., 1., 1., 1., 1.],\n",
            "        [1., 1., 1., 1., 1., 1., 1., 1., 1., 1., 1., 1., 1., 1., 1., 1.],\n",
            "        [1., 1., 1., 1., 1., 1., 1., 1., 1., 1., 1., 1., 1., 1., 1., 1.],\n",
            "        [1., 1., 1., 1., 1., 1., 1., 1., 1., 1., 1., 1., 1., 1., 1., 1.],\n",
            "        [1., 1., 1., 1., 1., 1., 1., 1., 1., 1., 1., 1., 1., 1., 1., 1.],\n",
            "        [1., 1., 1., 1., 1., 1., 1., 1., 1., 1., 1., 1., 1., 1., 1., 1.],\n",
            "        [1., 1., 1., 1., 1., 1., 1., 1., 1., 1., 1., 1., 1., 1., 1., 1.],\n",
            "        [1., 1., 1., 1., 1., 1., 1., 1., 1., 1., 1., 1., 1., 1., 1., 1.],\n",
            "        [1., 1., 1., 1., 1., 1., 1., 1., 1., 1., 1., 1., 1., 1., 1., 1.],\n",
            "        [1., 1., 1., 1., 1., 1., 1., 1., 1., 1., 1., 1., 1., 1., 1., 1.],\n",
            "        [1., 1., 1., 1., 1., 1., 1., 1., 1., 1., 1., 1., 1., 1., 1., 1.],\n",
            "        [1., 1., 1., 1., 1., 1., 1., 1., 1., 1., 1., 1., 1., 1., 1., 1.],\n",
            "        [1., 1., 1., 1., 1., 1., 1., 1., 1., 1., 1., 1., 1., 1., 1., 1.],\n",
            "        [1., 1., 1., 1., 1., 1., 1., 1., 1., 1., 1., 1., 1., 1., 1., 1.]])\n",
            "tensor([[1., 1., 1., 1., 1., 1., 1., 1., 1., 1., 1., 1., 1., 1., 1., 1., 1., 1.,\n",
            "         1., 1., 1., 1., 1., 1., 1., 1., 1., 1., 1., 1., 1., 1., 1., 1., 1., 1.,\n",
            "         1., 1., 1., 1., 1., 1., 1., 1., 1., 1., 1., 1., 1., 1., 1., 1., 1., 1.,\n",
            "         1., 1., 1., 1., 1., 1., 1., 1., 1., 1., 1., 1., 1., 1., 1., 1., 1., 1.,\n",
            "         1., 1., 1., 1., 1., 1., 1., 1., 1., 1., 1., 1., 1., 1., 1., 1., 1., 1.,\n",
            "         1., 1., 1., 1., 1., 1., 1., 1., 1., 1., 1., 1., 1., 1., 1., 1., 1., 1.,\n",
            "         1., 1., 1., 1., 1., 1., 1., 1., 1., 1., 1., 1., 1., 1., 1., 1., 1., 1.,\n",
            "         1., 1., 1., 1., 1., 1., 1., 1., 1., 1., 1., 1., 1., 1., 1., 1., 1., 1.,\n",
            "         1., 1., 1., 1., 1., 1., 1., 1., 1., 1., 1., 1., 1., 1., 1., 1., 1., 1.,\n",
            "         1., 1., 1., 1., 1., 1., 1., 1., 1., 1., 1., 1., 1., 1., 1., 1., 1., 1.,\n",
            "         1., 1., 1., 1., 1., 1., 1., 1., 1., 1., 1., 1., 1., 1., 1., 1., 1., 1.,\n",
            "         1., 1., 1., 1., 1., 1., 1., 1., 1., 1., 1., 1., 1., 1., 1., 1., 1., 1.,\n",
            "         1., 1., 1., 1., 1., 1., 1., 1., 1., 1., 1., 1., 1., 1., 1., 1., 1., 1.,\n",
            "         1., 1., 1., 1., 1., 1., 1., 1., 1., 1., 1., 1., 1., 1., 1., 1., 1., 1.,\n",
            "         1., 1., 1., 1.]])\n"
          ]
        }
      ],
      "source": [
        "# 4.Convert a 16x16 tensor in 1x256 tensor\n",
        "\n",
        "a = torch.ones(16,16)\n",
        "print(a)\n",
        "b = torch.reshape(a, (1,256))\n",
        "print(b)"
      ]
    },
    {
      "cell_type": "code",
      "execution_count": 37,
      "metadata": {},
      "outputs": [
        {
          "name": "stdout",
          "output_type": "stream",
          "text": [
            "a: 1.1349598169326782\n",
            "b: 1.742231845855713\n"
          ]
        }
      ],
      "source": [
        "# 5.Given two tensor x and y, find the coefficient that best model the linear relationship Y = ax + b (Linear Regression)\n",
        "# b = sigma (xi - x)(yi - y) / sigma (xi - x)^2\n",
        "# a = y - bx\n",
        "\n",
        "x = torch.rand(10)\n",
        "y = 2 * x + 1 + torch.randn(10) * 0.1\n",
        "\n",
        "x_mean = torch.mean(x)\n",
        "y_mean = torch.mean(y)\n",
        "\n",
        "b = torch.sum((x - x_mean) * (y - y_mean)) / torch.sum((x - x_mean) ** 2)\n",
        "a = y_mean - b * x_mean\n",
        "\n",
        "print(f\"a: {a}\\nb: {b}\")\n",
        "\n"
      ]
    },
    {
      "cell_type": "code",
      "execution_count": 51,
      "metadata": {},
      "outputs": [
        {
          "name": "stdout",
          "output_type": "stream",
          "text": [
            "a: tensor([[0.5936, 0.4024, 0.0911],\n",
            "        [0.0035, 0.2118, 0.5679],\n",
            "        [0.5858, 0.9733, 0.3692]])\n",
            "b: tensor([[0.1148, 0.3430, 0.5337],\n",
            "        [0.8697, 0.6151, 0.2620],\n",
            "        [0.7743, 0.8910, 0.1941]])\n",
            "Element-wise multiplication: tensor([[0.0682, 0.1380, 0.0486],\n",
            "        [0.0031, 0.1303, 0.1488],\n",
            "        [0.4536, 0.8672, 0.0716]])\n",
            "Element-wise addition: tensor([[0.7084, 0.7454, 0.6248],\n",
            "        [0.8732, 0.8269, 0.8299],\n",
            "        [1.3602, 1.8643, 0.5633]])\n"
          ]
        }
      ],
      "source": [
        "# 6.Perform element-wise multiplication and addition on two 3x3 tensors\n",
        "\n",
        "a = torch.rand(3,3)\n",
        "b = torch.rand(3,3)\n",
        "\n",
        "print(f\"a: {a}\\nb: {b}\")\n",
        "print(f\"Element-wise multiplication: {a * b}\")\n",
        "print(f\"Element-wise addition: {a + b}\")"
      ]
    },
    {
      "cell_type": "code",
      "execution_count": 52,
      "metadata": {},
      "outputs": [
        {
          "name": "stdout",
          "output_type": "stream",
          "text": [
            "a: tensor([[0.9210, 0.6140, 0.6969],\n",
            "        [0.4786, 0.0187, 0.8875]])\n",
            "b: tensor([[0.9846, 0.3264, 0.3193],\n",
            "        [0.0828, 0.2082, 0.1284]])\n",
            "Stacked tensors: tensor([[[0.9210, 0.6140, 0.6969],\n",
            "         [0.4786, 0.0187, 0.8875]],\n",
            "\n",
            "        [[0.9846, 0.3264, 0.3193],\n",
            "         [0.0828, 0.2082, 0.1284]]])\n"
          ]
        }
      ],
      "source": [
        "# 7.Stack two 2x3 tensors along a new dimension\n",
        "\n",
        "a = torch.rand(2,3)\n",
        "b = torch.rand(2,3)\n",
        "\n",
        "print(f\"a: {a}\\nb: {b}\")\n",
        "print(f\"Stacked tensors: {torch.stack((a,b))}\")\n"
      ]
    },
    {
      "cell_type": "code",
      "execution_count": 53,
      "metadata": {},
      "outputs": [
        {
          "name": "stdout",
          "output_type": "stream",
          "text": [
            "tensor([0, 1, 2, 3, 4, 5, 6, 7, 8, 9])\n"
          ]
        }
      ],
      "source": [
        "# 8.Create a 1D tensor with values ranging from 0 to 9\n",
        "\n",
        "a = torch.arange(10)\n",
        "print(a)\n"
      ]
    },
    {
      "cell_type": "code",
      "execution_count": 57,
      "metadata": {},
      "outputs": [
        {
          "name": "stdout",
          "output_type": "stream",
          "text": [
            "a: tensor([[0.9086, 0.1219, 0.5926],\n",
            "        [0.0131, 0.0058, 0.1323]])\n",
            "b: tensor([[0.4359, 0.4114, 0.9087]])\n",
            "\n",
            "Element-wise multiplication: tensor([[0.3961, 0.0502, 0.5385],\n",
            "        [0.0057, 0.0024, 0.1202]])\n"
          ]
        }
      ],
      "source": [
        "# 9.Perform operations on tensors of different shapes: 2x3 and 1x3 tensor using broadcasting\n",
        "\n",
        "a = torch.rand(2,3)\n",
        "b = torch.rand(1,3)\n",
        "\n",
        "print(f\"a: {a}\\nb: {b}\\n\")\n",
        "print(f\"Element-wise multiplication: {a * b}\")"
      ]
    },
    {
      "cell_type": "code",
      "execution_count": 54,
      "metadata": {},
      "outputs": [
        {
          "name": "stdout",
          "output_type": "stream",
          "text": [
            "a: tensor([ 0,  1,  2,  3,  4,  5,  6,  7,  8,  9, 10, 11])\n",
            "b: tensor([[ 0,  1,  2,  3],\n",
            "        [ 4,  5,  6,  7],\n",
            "        [ 8,  9, 10, 11]])\n"
          ]
        }
      ],
      "source": [
        "# 10.Reshape a 1D tensor with 12 elements into a 3x4 matrix\n",
        "\n",
        "a = torch.arange(12)\n",
        "print(f\"a: {a}\")\n",
        "b = torch.reshape(a, (3,4))\n",
        "print(f\"b: {b}\")"
      ]
    },
    {
      "cell_type": "code",
      "execution_count": 55,
      "metadata": {},
      "outputs": [
        {
          "name": "stdout",
          "output_type": "stream",
          "text": [
            "a: tensor([[0.7802, 0.7778, 0.3140, 0.0638, 0.1032],\n",
            "        [0.7553, 0.3410, 0.5284, 0.0245, 0.1815],\n",
            "        [0.4078, 0.0718, 0.7933, 0.4388, 0.3995],\n",
            "        [0.4898, 0.6255, 0.5537, 0.4507, 0.7321],\n",
            "        [0.5065, 0.4272, 0.3635, 0.7104, 0.5528]])\n",
            "Sum of all elements: 11.393038749694824\n"
          ]
        }
      ],
      "source": [
        "# 11.Compute the sum of all elements in a 5x5 tensor.\n",
        "\n",
        "a = torch.rand(5,5)\n",
        "print(f\"a: {a}\")\n",
        "print(f\"Sum of all elements: {torch.sum(a)}\")\n"
      ]
    },
    {
      "cell_type": "code",
      "execution_count": 58,
      "metadata": {},
      "outputs": [
        {
          "name": "stdout",
          "output_type": "stream",
          "text": [
            "a: tensor([[0.1500, 0.3061, 0.5663, 0.9953],\n",
            "        [0.9274, 0.5454, 0.0943, 0.3650],\n",
            "        [0.4334, 0.2278, 0.7780, 0.4037]])\n",
            "b: tensor([[0.1500, 0.9274, 0.4334],\n",
            "        [0.3061, 0.5454, 0.2278],\n",
            "        [0.5663, 0.0943, 0.7780],\n",
            "        [0.9953, 0.3650, 0.4037]])\n"
          ]
        }
      ],
      "source": [
        "# 12.Transpose a 3x4 tensor into a 4x3 tensor\n",
        "\n",
        "a = torch.rand(3,4)\n",
        "print(f\"a: {a}\")\n",
        "b = torch.transpose(a, 0, 1)\n",
        "print(f\"b: {b}\")"
      ]
    },
    {
      "cell_type": "code",
      "execution_count": 59,
      "metadata": {},
      "outputs": [
        {
          "name": "stdout",
          "output_type": "stream",
          "text": [
            "a: tensor([0.8859, 0.9238, 0.4491, 0.1927, 0.6963, 0.2912, 0.5913, 0.2936, 0.7483,\n",
            "        0.8779])\n",
            "Normalized a: tensor([0.9482, 1.0000, 0.3506, 0.0000, 0.6888, 0.1346, 0.5452, 0.1380, 0.7600,\n",
            "        0.9372])\n"
          ]
        }
      ],
      "source": [
        "# 13.Normalize a 1D tensor so that its values are in the range [0, 1].\n",
        "\n",
        "a = torch.rand(10)\n",
        "print(f\"a: {a}\")\n",
        "a_min = torch.min(a)\n",
        "a_max = torch.max(a)\n",
        "a = (a - a_min) / (a_max - a_min)\n",
        "print(f\"Normalized a: {a}\")\n"
      ]
    },
    {
      "cell_type": "code",
      "execution_count": 60,
      "metadata": {},
      "outputs": [
        {
          "name": "stdout",
          "output_type": "stream",
          "text": [
            "a: tensor([[0.2784, 0.1635, 0.6878],\n",
            "        [0.7586, 0.5219, 0.0224]])\n",
            "b: tensor([[0.2237, 0.7434, 0.5412],\n",
            "        [0.3971, 0.2491, 0.0272]])\n",
            "Concatenated tensors: tensor([[0.2784, 0.1635, 0.6878, 0.2237, 0.7434, 0.5412],\n",
            "        [0.7586, 0.5219, 0.0224, 0.3971, 0.2491, 0.0272]])\n"
          ]
        }
      ],
      "source": [
        "# 14.Concatenate two tensors of shape (2, 3) along dimension 1.\n",
        "\n",
        "a = torch.rand(2,3)\n",
        "b = torch.rand(2,3)\n",
        "\n",
        "print(f\"a: {a}\\nb: {b}\")\n",
        "print(f\"Concatenated tensors: {torch.cat((a,b), 1)}\")"
      ]
    },
    {
      "cell_type": "code",
      "execution_count": 61,
      "metadata": {},
      "outputs": [
        {
          "name": "stdout",
          "output_type": "stream",
          "text": [
            "a: tensor([[-0.1452,  0.7421],\n",
            "        [ 3.8234,  1.4392]])\n",
            "ReLU(a): tensor([[0.0000, 0.7421],\n",
            "        [3.8234, 1.4392]])\n"
          ]
        }
      ],
      "source": [
        "# 15.Apply a ReLU activation function to a 2D tensor.\n",
        "\n",
        "a = torch.randn(2,2)\n",
        "print(f\"a: {a}\")\n",
        "a = torch.relu(a)\n",
        "print(f\"ReLU(a): {a}\")"
      ]
    },
    {
      "cell_type": "code",
      "execution_count": 62,
      "metadata": {},
      "outputs": [
        {
          "name": "stdout",
          "output_type": "stream",
          "text": [
            "a: tensor([[1, 3, 2, 5, 2],\n",
            "        [2, 2, 8, 8, 1],\n",
            "        [8, 6, 6, 0, 5],\n",
            "        [0, 3, 5, 0, 7],\n",
            "        [2, 5, 9, 6, 1]])\n",
            "Median of each row: tensor([2, 2, 6, 3, 5])\n"
          ]
        }
      ],
      "source": [
        "# 16.Create a tensor of shape (5, 5) with random integers between 0 and 10, and compute the median of each row.\n",
        "\n",
        "a = torch.randint(0, 10, (5,5))\n",
        "print(f\"a: {a}\")\n",
        "print(f\"Median of each row: {torch.median(a, 1).values}\")\n"
      ]
    },
    {
      "cell_type": "code",
      "execution_count": 65,
      "metadata": {},
      "outputs": [
        {
          "name": "stdout",
          "output_type": "stream",
          "text": [
            "a: tensor([[0.4923, 0.4461],\n",
            "        [0.5020, 0.4484],\n",
            "        [0.3091, 0.2227]])\n",
            "b: tensor([[0.2154, 0.0467, 0.0423],\n",
            "        [0.5964, 0.7368, 0.2158]])\n",
            "\n",
            "Element-wise division: tensor([[[ 2.2852, 10.5361, 11.6475],\n",
            "         [ 0.7480,  0.6055,  2.0671]],\n",
            "\n",
            "        [[ 2.3301, 10.7434, 11.8766],\n",
            "         [ 0.7518,  0.6085,  2.0774]],\n",
            "\n",
            "        [[ 1.4349,  6.6158,  7.3137],\n",
            "         [ 0.3734,  0.3023,  1.0319]]])\n"
          ]
        }
      ],
      "source": [
        "# 17.Perform element-wise division of two tensors with shapes (3, 2) and (2, 3) using broadcasting.\n",
        "\n",
        "a = torch.rand(3,2)\n",
        "b = torch.rand(2,3)\n",
        "\n",
        "print(f\"a: {a}\\nb: {b}\\n\")\n",
        "print(f\"Element-wise division: {a.unsqueeze(2) / b.unsqueeze(0)}\")\n"
      ]
    },
    {
      "cell_type": "code",
      "execution_count": 66,
      "metadata": {},
      "outputs": [
        {
          "name": "stdout",
          "output_type": "stream",
          "text": [
            "a: tensor([[0.4919, 0.9087, 0.4816, 0.5931],\n",
            "        [0.9008, 0.9913, 0.8031, 0.0939]])\n",
            "b: tensor([[0.9091, 0.9111, 0.0913],\n",
            "        [0.4713, 0.9345, 0.3078],\n",
            "        [0.3529, 0.2206, 0.8371],\n",
            "        [0.8664, 0.6600, 0.4606]])\n",
            "\n",
            "Matrix multiplication: tensor([[1.5593, 1.7950, 1.0009],\n",
            "        [1.6509, 1.9863, 1.1029]])\n"
          ]
        }
      ],
      "source": [
        "# 18.Initialize a tensor of shape (2, 4) with values from a uniform distribution and perform a matrix multiplication with a (4, 3) tensor.\n",
        "\n",
        "a = torch.rand(2,4)\n",
        "b = torch.rand(4,3)\n",
        "\n",
        "print(f\"a: {a}\\nb: {b}\\n\")\n",
        "print(f\"Matrix multiplication: {torch.matmul(a,b)}\")\n"
      ]
    },
    {
      "cell_type": "code",
      "execution_count": 86,
      "metadata": {},
      "outputs": [
        {
          "name": "stdout",
          "output_type": "stream",
          "text": [
            "Tensor: tensor([[[0., 1., 2.],\n",
            "         [3., 4., 5.]],\n",
            "\n",
            "        [[6., 7., 8.],\n",
            "         [0., 1., 2.]]])\n",
            "\n",
            "Kernel: tensor([[1., 0.],\n",
            "        [0., 1.]])\n",
            "\n"
          ]
        },
        {
          "ename": "RuntimeError",
          "evalue": "The size of tensor a (3) must match the size of tensor b (2) at non-singleton dimension 2",
          "output_type": "error",
          "traceback": [
            "\u001b[0;31m---------------------------------------------------------------------------\u001b[0m",
            "\u001b[0;31mRuntimeError\u001b[0m                              Traceback (most recent call last)",
            "Cell \u001b[0;32mIn[86], line 14\u001b[0m\n\u001b[1;32m     12\u001b[0m \u001b[38;5;28;01mfor\u001b[39;00m i \u001b[38;5;129;01min\u001b[39;00m \u001b[38;5;28mrange\u001b[39m(\u001b[38;5;241m2\u001b[39m):\n\u001b[1;32m     13\u001b[0m     \u001b[38;5;28;01mfor\u001b[39;00m j \u001b[38;5;129;01min\u001b[39;00m \u001b[38;5;28mrange\u001b[39m(\u001b[38;5;241m2\u001b[39m):\n\u001b[0;32m---> 14\u001b[0m         output[\u001b[38;5;241m0\u001b[39m, \u001b[38;5;241m0\u001b[39m, i, j] \u001b[38;5;241m=\u001b[39m torch\u001b[38;5;241m.\u001b[39msum(\u001b[43mtensor\u001b[49m\u001b[43m[\u001b[49m\u001b[43mi\u001b[49m\u001b[43m:\u001b[49m\u001b[43mi\u001b[49m\u001b[38;5;241;43m+\u001b[39;49m\u001b[38;5;241;43m2\u001b[39;49m\u001b[43m,\u001b[49m\u001b[43m \u001b[49m\u001b[43mj\u001b[49m\u001b[43m:\u001b[49m\u001b[43mj\u001b[49m\u001b[38;5;241;43m+\u001b[39;49m\u001b[38;5;241;43m2\u001b[39;49m\u001b[43m]\u001b[49m\u001b[43m \u001b[49m\u001b[38;5;241;43m*\u001b[39;49m\u001b[43m \u001b[49m\u001b[43mkernel\u001b[49m)\n\u001b[1;32m     15\u001b[0m     \u001b[38;5;28mprint\u001b[39m(\u001b[38;5;124mf\u001b[39m\u001b[38;5;124m\"\u001b[39m\u001b[38;5;124mOutput: \u001b[39m\u001b[38;5;132;01m{\u001b[39;00moutput\u001b[38;5;132;01m}\u001b[39;00m\u001b[38;5;124m\"\u001b[39m)\n",
            "\u001b[0;31mRuntimeError\u001b[0m: The size of tensor a (3) must match the size of tensor b (2) at non-singleton dimension 2"
          ]
        }
      ],
      "source": [
        "# 19.Create a tensor of shape (2, 2, 3) with values ranging from 0 to 8, and perform a 2D convolution with a (2, 2) kernel.\n",
        "# the 12 values need to lie in between 0 to 9 for the tensor (2, 2, 3)\n",
        "\n",
        "tensor = torch.tensor([[[0, 1, 2], [3, 4, 5]], [[6, 7, 8], [0, 1, 2]]], dtype=torch.float32)\n",
        "kernel = torch.tensor([[1, 0], [0, 1]], dtype=torch.float32)\n",
        "\n",
        "print(f\"Tensor: {tensor}\\n\")\n",
        "print(f\"Kernel: {kernel}\\n\")\n",
        "\n",
        "#using for 2 for loops\n",
        "output = torch.zeros(1, 1, 2, 2)\n",
        "for i in range(2):\n",
        "    for j in range(2):\n",
        "        output[0, 0, i, j] = torch.sum(tensor[i:i+2, j:j+2] * kernel)\n",
        "    print(f\"Output: {output}\")\n"
      ]
    },
    {
      "cell_type": "code",
      "execution_count": 75,
      "metadata": {},
      "outputs": [
        {
          "name": "stdout",
          "output_type": "stream",
          "text": [
            "a: tensor([[0.7993, 0.1799],\n",
            "        [0.4700, 0.5255],\n",
            "        [0.6726, 0.6271],\n",
            "        [0.6292, 0.5213]])\n",
            "Reshaped array of shape(2,4): [[0.7992935  0.1799388  0.46997768 0.52553326]\n",
            " [0.6725904  0.6270688  0.62917423 0.5212817 ]]\n"
          ]
        }
      ],
      "source": [
        "# 20.Convert a tensor with shape (4, 2) into a 2D NumPy array of shape (2, 4).\n",
        "\n",
        "a = torch.rand(4,2)\n",
        "print(f\"a: {a}\")\n",
        "b = a.numpy().reshape(2,4)\n",
        "print(f\"Reshaped array of shape(2,4): {b}\")\n",
        "\n"
      ]
    }
  ],
  "metadata": {
    "colab": {
      "provenance": []
    },
    "kernelspec": {
      "display_name": "Python 3",
      "name": "python3"
    },
    "language_info": {
      "codemirror_mode": {
        "name": "ipython",
        "version": 3
      },
      "file_extension": ".py",
      "mimetype": "text/x-python",
      "name": "python",
      "nbconvert_exporter": "python",
      "pygments_lexer": "ipython3",
      "version": "3.12.2"
    }
  },
  "nbformat": 4,
  "nbformat_minor": 0
}
